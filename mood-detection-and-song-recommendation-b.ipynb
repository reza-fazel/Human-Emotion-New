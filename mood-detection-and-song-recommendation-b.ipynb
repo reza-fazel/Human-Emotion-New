{
 "cells": [
  {
   "cell_type": "markdown",
   "id": "eb311e38",
   "metadata": {
    "papermill": {
     "duration": 0.006932,
     "end_time": "2022-06-16T17:49:10.995354",
     "exception": false,
     "start_time": "2022-06-16T17:49:10.988422",
     "status": "completed"
    },
    "tags": []
   },
   "source": [
    "# Loading Libraries"
   ]
  },
  {
   "cell_type": "code",
   "execution_count": 1,
   "id": "d66a3edf",
   "metadata": {
    "_cell_guid": "b1076dfc-b9ad-4769-8c92-a6c4dae69d19",
    "_uuid": "8f2839f25d086af736a60e9eeb907d3b93b6e0e5",
    "execution": {
     "iopub.execute_input": "2022-06-16T17:49:11.009583Z",
     "iopub.status.busy": "2022-06-16T17:49:11.008854Z",
     "iopub.status.idle": "2022-06-16T17:49:17.536869Z",
     "shell.execute_reply": "2022-06-16T17:49:17.536063Z"
    },
    "papermill": {
     "duration": 6.537492,
     "end_time": "2022-06-16T17:49:17.539018",
     "exception": false,
     "start_time": "2022-06-16T17:49:11.001526",
     "status": "completed"
    },
    "tags": []
   },
   "outputs": [],
   "source": [
    "import numpy as np\n",
    "import pandas as pd\n",
    "import seaborn as sns\n",
    "sns.set_theme(style=\"whitegrid\")\n",
    "import matplotlib.pyplot as plt\n",
    "%matplotlib inline\n",
    "\n",
    "import datetime\n",
    "import os\n",
    "import cv2\n",
    "\n",
    "import tensorflow as tf\n",
    "from tensorflow.keras.optimizers import Adam, RMSprop, SGD\n",
    "\n",
    "from keras import regularizers\n",
    "from keras.layers import Conv2D, Dense, BatchNormalization, Activation, Dropout, MaxPooling2D, Flatten\n",
    "from keras.callbacks import ModelCheckpoint, CSVLogger, TensorBoard, EarlyStopping, ReduceLROnPlateau\n",
    "from keras.preprocessing.image import ImageDataGenerator, load_img\n",
    "from keras.utils.vis_utils import plot_model\n",
    "\n",
    "from sklearn.metrics import classification_report, confusion_matrix\n",
    "\n",
    "main_accent_colour = \"#b366ff\"\n",
    "dim_colour=\"darkgrey\"\n",
    "main_palette = [\"#FBE5C0\", \"#DD9A30\", \"#F88379\", \"#FF6FC2\", \"purple\", \"#D086F6\", \"#B0D2C2\", \"#4C5D70\", \"#6FA2CE\", \"#382D24\", \"#3ACF3A\", \"#7D7D00\"]"
   ]
  },
  {
   "cell_type": "markdown",
   "id": "8cb678c6",
   "metadata": {
    "papermill": {
     "duration": 0.006194,
     "end_time": "2022-06-16T17:49:17.551450",
     "exception": false,
     "start_time": "2022-06-16T17:49:17.545256",
     "status": "completed"
    },
    "tags": []
   },
   "source": [
    "# Analyzing"
   ]
  },
  {
   "cell_type": "code",
   "execution_count": 2,
   "id": "301e15f3",
   "metadata": {
    "execution": {
     "iopub.execute_input": "2022-06-16T17:49:17.564765Z",
     "iopub.status.busy": "2022-06-16T17:49:17.564230Z",
     "iopub.status.idle": "2022-06-16T17:49:17.581136Z",
     "shell.execute_reply": "2022-06-16T17:49:17.580387Z"
    },
    "papermill": {
     "duration": 0.025636,
     "end_time": "2022-06-16T17:49:17.583120",
     "exception": false,
     "start_time": "2022-06-16T17:49:17.557484",
     "status": "completed"
    },
    "tags": []
   },
   "outputs": [],
   "source": [
    "train_dir = '../input/fer2013/train/'\n",
    "test_dir = '../input/fer2013/test/'\n",
    "\n",
    "row = 48\n",
    "col = 48\n",
    "classes = len(os.listdir('../input/fer2013/train/'))"
   ]
  },
  {
   "cell_type": "code",
   "execution_count": 3,
   "id": "a1d8645c",
   "metadata": {
    "execution": {
     "iopub.execute_input": "2022-06-16T17:49:17.596231Z",
     "iopub.status.busy": "2022-06-16T17:49:17.595630Z",
     "iopub.status.idle": "2022-06-16T17:49:21.349343Z",
     "shell.execute_reply": "2022-06-16T17:49:21.348352Z"
    },
    "papermill": {
     "duration": 3.762643,
     "end_time": "2022-06-16T17:49:21.351701",
     "exception": false,
     "start_time": "2022-06-16T17:49:17.589058",
     "status": "completed"
    },
    "tags": []
   },
   "outputs": [
    {
     "name": "stdout",
     "output_type": "stream",
     "text": [
      "Train Set :\n",
      "surprise folder contains\t\t 3171 image\n",
      "fear folder contains\t\t 4097 image\n",
      "angry folder contains\t\t 3995 image\n",
      "neutral folder contains\t\t 4965 image\n",
      "sad folder contains\t\t 4830 image\n",
      "disgust folder contains\t\t 436 image\n",
      "happy folder contains\t\t 7215 image\n",
      "\n",
      "Test Set :\n",
      "surprise folder contains\t\t 831 images\n",
      "fear folder contains\t\t 1024 images\n",
      "angry folder contains\t\t 958 images\n",
      "neutral folder contains\t\t 1233 images\n",
      "sad folder contains\t\t 1247 images\n",
      "disgust folder contains\t\t 111 images\n",
      "happy folder contains\t\t 1774 images\n"
     ]
    }
   ],
   "source": [
    "print(\"Train Set :\")\n",
    "\n",
    "train_count = []\n",
    "for folder in os.listdir(train_dir) :\n",
    "    print(folder, \"folder contains\\t\\t\", len(os.listdir(train_dir+folder)), \"image\")\n",
    "    train_count.append(len(os.listdir(train_dir+folder)))\n",
    "    \n",
    "print()\n",
    "\n",
    "test_count = []\n",
    "print(\"Test Set :\")\n",
    "for folder in os.listdir(test_dir) :\n",
    "    print(folder, \"folder contains\\t\\t\", len(os.listdir(test_dir+folder)), \"images\")\n",
    "    test_count.append(len(os.listdir(test_dir+folder)))"
   ]
  },
  {
   "cell_type": "code",
   "execution_count": 4,
   "id": "b37e2e73",
   "metadata": {
    "execution": {
     "iopub.execute_input": "2022-06-16T17:49:21.371209Z",
     "iopub.status.busy": "2022-06-16T17:49:21.370644Z",
     "iopub.status.idle": "2022-06-16T17:49:22.515263Z",
     "shell.execute_reply": "2022-06-16T17:49:22.514466Z"
    },
    "papermill": {
     "duration": 1.158599,
     "end_time": "2022-06-16T17:49:22.517491",
     "exception": false,
     "start_time": "2022-06-16T17:49:21.358892",
     "status": "completed"
    },
    "tags": []
   },
   "outputs": [
    {
     "data": {
      "image/png": "[encoded data removed]",
      "text/plain": [
       "<Figure size 576x288 with 1 Axes>"
      ]
     },
     "metadata": {
      "needs_background": "light"
     },
     "output_type": "display_data"
    },
    {
     "name": "stdout",
     "output_type": "stream",
     "text": [
      "\n"
     ]
    },
    {
     "data": {
      "image/png": "[encoded data removed]",
      "text/plain": [
       "<Figure size 432x288 with 1 Axes>"
      ]
     },
     "metadata": {
      "needs_background": "light"
     },
     "output_type": "display_data"
    },
    {
     "name": "stdout",
     "output_type": "stream",
     "text": [
      "\n"
     ]
    },
    {
     "data": {
      "image/png": "[encoded data removed]",
      "text/plain": [
       "<Figure size 1800x1800 with 7 Axes>"
      ]
     },
     "metadata": {
      "needs_background": "light"
     },
     "output_type": "display_data"
    }
   ],
   "source": [
    "vals = [\"disgust\"]\n",
    "palette = {c: dim_colour if c not in vals else main_accent_colour for c in os.listdir(train_dir)}\n",
    "\n",
    "plt.figure(figsize=(8,4))\n",
    "\n",
    "ax = sns.barplot(y=os.listdir(train_dir),\n",
    "                 x=train_count,\n",
    "                 palette=palette,\n",
    "                 orientation=\"horizontal\",\n",
    ").set(title='Train Classes')\n",
    "\n",
    "plt.show()\n",
    "\n",
    "print()\n",
    "\n",
    "ax = sns.barplot(y=os.listdir(test_dir),\n",
    "                 x=test_count,\n",
    "                 palette=palette,\n",
    "                 orientation=\"horizontal\",\n",
    ").set(title='Test Classes')\n",
    "\n",
    "plt.show()\n",
    "\n",
    "print()\n",
    "\n",
    "plt.figure(figsize=(25,25))\n",
    "\n",
    "i = 1\n",
    "for folder in os.listdir(train_dir):\n",
    "    \n",
    "    img = load_img((train_dir + folder +'/'+ os.listdir(train_dir + folder)[1]))\n",
    "    plt.subplot(1,7,i)\n",
    "    plt.imshow(img)\n",
    "    plt.title(folder)\n",
    "    plt.axis('off')\n",
    "    i += 1\n",
    "    \n",
    "plt.show()"
   ]
  },
  {
   "cell_type": "markdown",
   "id": "11e7cdc5",
   "metadata": {
    "papermill": {
     "duration": 0.008211,
     "end_time": "2022-06-16T17:49:22.535337",
     "exception": false,
     "start_time": "2022-06-16T17:49:22.527126",
     "status": "completed"
    },
    "tags": []
   },
   "source": [
    "# Preprocessing"
   ]
  },
  {
   "cell_type": "code",
   "execution_count": 5,
   "id": "462232cd",
   "metadata": {
    "execution": {
     "iopub.execute_input": "2022-06-16T17:49:22.553920Z",
     "iopub.status.busy": "2022-06-16T17:49:22.553610Z",
     "iopub.status.idle": "2022-06-16T17:49:54.343821Z",
     "shell.execute_reply": "2022-06-16T17:49:54.342987Z"
    },
    "papermill": {
     "duration": 31.810169,
     "end_time": "2022-06-16T17:49:54.353814",
     "exception": false,
     "start_time": "2022-06-16T17:49:22.543645",
     "status": "completed"
    },
    "tags": []
   },
   "outputs": [
    {
     "name": "stdout",
     "output_type": "stream",
     "text": [
      "Found 28709 images belonging to 7 classes.\n",
      "Found 7178 images belonging to 7 classes.\n"
     ]
    }
   ],
   "source": [
    "train_datagen = ImageDataGenerator(rescale=1./255,\n",
    "                                   zoom_range=0.3,\n",
    "                                   horizontal_flip=True)\n",
    "\n",
    "training_set = train_datagen.flow_from_directory(train_dir,\n",
    "                                                batch_size=64,\n",
    "                                                target_size=(48,48),\n",
    "                                                shuffle=True,\n",
    "                                                color_mode='grayscale',\n",
    "                                                class_mode='categorical')\n",
    "\n",
    "test_datagen = ImageDataGenerator(rescale=1./255)\n",
    "test_set = test_datagen.flow_from_directory(test_dir,\n",
    "                                                batch_size=64,\n",
    "                                                target_size=(48,48),\n",
    "                                                shuffle=True,\n",
    "                                                color_mode='grayscale',\n",
    "                                                class_mode='categorical')"
   ]
  },
  {
   "cell_type": "code",
   "execution_count": 6,
   "id": "6b2dec51",
   "metadata": {
    "execution": {
     "iopub.execute_input": "2022-06-16T17:49:54.371028Z",
     "iopub.status.busy": "2022-06-16T17:49:54.370730Z",
     "iopub.status.idle": "2022-06-16T17:49:54.376268Z",
     "shell.execute_reply": "2022-06-16T17:49:54.375553Z"
    },
    "papermill": {
     "duration": 0.016144,
     "end_time": "2022-06-16T17:49:54.378020",
     "exception": false,
     "start_time": "2022-06-16T17:49:54.361876",
     "status": "completed"
    },
    "tags": []
   },
   "outputs": [
    {
     "data": {
      "text/plain": [
       "{'angry': 0,\n",
       " 'disgust': 1,\n",
       " 'fear': 2,\n",
       " 'happy': 3,\n",
       " 'neutral': 4,\n",
       " 'sad': 5,\n",
       " 'surprise': 6}"
      ]
     },
     "execution_count": 6,
     "metadata": {},
     "output_type": "execute_result"
    }
   ],
   "source": [
    "training_set.class_indices"
   ]
  },
  {
   "cell_type": "markdown",
   "id": "12d98dc8",
   "metadata": {
    "papermill": {
     "duration": 0.007664,
     "end_time": "2022-06-16T17:49:54.393506",
     "exception": false,
     "start_time": "2022-06-16T17:49:54.385842",
     "status": "completed"
    },
    "tags": []
   },
   "source": [
    "# Model"
   ]
  },
  {
   "cell_type": "code",
   "execution_count": 7,
   "id": "d3b7a59b",
   "metadata": {
    "execution": {
     "iopub.execute_input": "2022-06-16T17:49:54.410581Z",
     "iopub.status.busy": "2022-06-16T17:49:54.410027Z",
     "iopub.status.idle": "2022-06-16T17:49:54.421220Z",
     "shell.execute_reply": "2022-06-16T17:49:54.420500Z"
    },
    "papermill": {
     "duration": 0.021493,
     "end_time": "2022-06-16T17:49:54.422818",
     "exception": false,
     "start_time": "2022-06-16T17:49:54.401325",
     "status": "completed"
    },
    "tags": []
   },
   "outputs": [],
   "source": [
    "def get_model(input_size, classes=7):\n",
    "    \n",
    "    model = tf.keras.models.Sequential()   \n",
    "\n",
    "    model.add(Conv2D(32, kernel_size=(3, 3), padding='same', activation='relu', input_shape =input_size))\n",
    "    model.add(Conv2D(64, kernel_size=(3, 3), activation='relu', padding='same'))\n",
    "    model.add(BatchNormalization())\n",
    "    model.add(MaxPooling2D(2, 2))\n",
    "    model.add(Dropout(0.25))\n",
    "\n",
    "    model.add(Conv2D(128, kernel_size=(3, 3), activation='relu', padding='same', kernel_regularizer=regularizers.l2(0.01)))\n",
    "    model.add(Conv2D(256, kernel_size=(3, 3), activation='relu', kernel_regularizer=regularizers.l2(0.01)))\n",
    "    model.add(BatchNormalization())\n",
    "    model.add(MaxPooling2D(pool_size=(2, 2)))\n",
    "    model.add(Dropout(0.25))\n",
    "\n",
    "    model.add(Flatten())\n",
    "    model.add(Dense(1024, activation='relu'))\n",
    "    model.add(Dropout(0.5))\n",
    "    \n",
    "    model.add(Dense(classes, activation='softmax'))\n",
    "\n",
    "    model.compile(optimizer=Adam(lr=0.0001, decay=1e-6), \n",
    "                  loss='categorical_crossentropy', \n",
    "                  metrics=['accuracy'])\n",
    "    return model"
   ]
  },
  {
   "cell_type": "code",
   "execution_count": 8,
   "id": "44569d8f",
   "metadata": {
    "execution": {
     "iopub.execute_input": "2022-06-16T17:49:54.440792Z",
     "iopub.status.busy": "2022-06-16T17:49:54.440044Z",
     "iopub.status.idle": "2022-06-16T17:49:57.389617Z",
     "shell.execute_reply": "2022-06-16T17:49:57.388859Z"
    },
    "papermill": {
     "duration": 2.962833,
     "end_time": "2022-06-16T17:49:57.393656",
     "exception": false,
     "start_time": "2022-06-16T17:49:54.430823",
     "status": "completed"
    },
    "tags": []
   },
   "outputs": [
    {
     "name": "stderr",
     "output_type": "stream",
     "text": [
      "2022-06-16 17:49:54.532073: I tensorflow/stream_executor/cuda/cuda_gpu_executor.cc:937] successful NUMA node read from SysFS had negative value (-1), but there must be at least one NUMA node, so returning NUMA node zero\n",
      "2022-06-16 17:49:54.630076: I tensorflow/stream_executor/cuda/cuda_gpu_executor.cc:937] successful NUMA node read from SysFS had negative value (-1), but there must be at least one NUMA node, so returning NUMA node zero\n",
      "2022-06-16 17:49:54.630819: I tensorflow/stream_executor/cuda/cuda_gpu_executor.cc:937] successful NUMA node read from SysFS had negative value (-1), but there must be at least one NUMA node, so returning NUMA node zero\n",
      "2022-06-16 17:49:54.631961: I tensorflow/core/platform/cpu_feature_guard.cc:142] This TensorFlow binary is optimized with oneAPI Deep Neural Network Library (oneDNN) to use the following CPU instructions in performance-critical operations:  AVX2 AVX512F FMA\n",
      "To enable them in other operations, rebuild TensorFlow with the appropriate compiler flags.\n",
      "2022-06-16 17:49:54.632256: I tensorflow/stream_executor/cuda/cuda_gpu_executor.cc:937] successful NUMA node read from SysFS had negative value (-1), but there must be at least one NUMA node, so returning NUMA "
     ]
    },
    {
     "name": "stdout",
     "output_type": "stream",
     "text": [
      "Model: \"sequential\"\n",
      "_________________________________________________________________\n",
      "Layer (type)                 Output Shape              Param #   \n",
      "=================================================================\n",
      "conv2d (Conv2D)              (None, 48, 48, 32)        320       \n",
      "_________________________________________________________________\n",
      "conv2d_1 (Conv2D)            (None, 48, 48, 64)        18496     \n",
      "_________________________________________________________________\n",
      "batch_normalization (BatchNo (None, 48, 48, 64)        256       \n",
      "_________________________________________________________________\n",
      "max_pooling2d (MaxPooling2D) (None, 24, 24, 64)        0         \n",
      "_________________________________________________________________\n",
      "dropout (Dropout)            (None, 24, 24, 64)        0         \n",
      "_________________________________________________________________\n",
      "conv2d_2 (Conv2D)            (None, 24, 24, 128)       73856     \n",
      "_________________________________________________________________\n",
      "conv2d_3 (Conv2D)            (None, 22, 22, 256)       295168    \n",
      "_________________________________________________________________\n",
      "batch_normalization_1 (Batch (None, 22, 22, 256)       1024      \n",
      "_________________________________________________________________\n",
      "max_pooling2d_1 (MaxPooling2 (None, 11, 11, 256)       0         \n",
      "_________________________________________________________________\n",
      "dropout_1 (Dropout)          (None, 11, 11, 256)       0         \n",
      "_________________________________________________________________\n",
      "flatten (Flatten)            (None, 30976)             0         \n",
      "_________________________________________________________________\n",
      "dense (Dense)                (None, 1024)              31720448  \n",
      "_________________________________________________________________\n",
      "dropout_2 (Dropout)          (None, 1024)              0         \n",
      "_________________________________________________________________\n",
      "dense_1 (Dense)              (None, 7)                 7175      \n",
      "=================================================================\n",
      "Total params: 32,116,743\n",
      "Trainable params: 32,116,103\n",
      "Non-trainable params: 640\n",
      "_________________________________________________________________\n"
     ]
    },
    {
     "name": "stderr",
     "output_type": "stream",
     "text": [
      "node zero\n",
      "2022-06-16 17:49:54.632973: I tensorflow/stream_executor/cuda/cuda_gpu_executor.cc:937] successful NUMA node read from SysFS had negative value (-1), but there must be at least one NUMA node, so returning NUMA node zero\n",
      "2022-06-16 17:49:54.633620: I tensorflow/stream_executor/cuda/cuda_gpu_executor.cc:937] successful NUMA node read from SysFS had negative value (-1), but there must be at least one NUMA node, so returning NUMA node zero\n",
      "2022-06-16 17:49:56.931031: I tensorflow/stream_executor/cuda/cuda_gpu_executor.cc:937] successful NUMA node read from SysFS had negative value (-1), but there must be at least one NUMA node, so returning NUMA node zero\n",
      "2022-06-16 17:49:56.931921: I tensorflow/stream_executor/cuda/cuda_gpu_executor.cc:937] successful NUMA node read from SysFS had negative value (-1), but there must be at least one NUMA node, so returning NUMA node zero\n",
      "2022-06-16 17:49:56.932613: I tensorflow/stream_executor/cuda/cuda_gpu_executor.cc:937] successful NUMA node read from SysFS had negative value (-1), but there must be at least one NUMA node, so returning NUMA node zero\n",
      "2022-06-16 17:49:56.933218: I tensorflow/core/common_runtime/gpu/gpu_device.cc:1510] Created device /job:localhost/replica:0/task:0/device:GPU:0 with 15403 MB memory:  -> device: 0, name: Tesla P100-PCIE-16GB, pci bus id: 0000:00:04.0, compute capability: 6.0\n",
      "/opt/conda/lib/python3.7/site-packages/keras/optimizer_v2/optimizer_v2.py:356: UserWarning: The `lr` argument is deprecated, use `learning_rate` instead.\n",
      "  \"The `lr` argument is deprecated, use `learning_rate` instead.\")\n"
     ]
    }
   ],
   "source": [
    "fernet = get_model((row,col,1), classes)\n",
    "fernet.summary()"
   ]
  },
  {
   "cell_type": "code",
   "execution_count": 9,
   "id": "16d049b9",
   "metadata": {
    "execution": {
     "iopub.execute_input": "2022-06-16T17:49:57.413356Z",
     "iopub.status.busy": "2022-06-16T17:49:57.412596Z",
     "iopub.status.idle": "2022-06-16T17:49:58.377315Z",
     "shell.execute_reply": "2022-06-16T17:49:58.376422Z"
    },
    "papermill": {
     "duration": 0.976059,
     "end_time": "2022-06-16T17:49:58.379405",
     "exception": false,
     "start_time": "2022-06-16T17:49:57.403346",
     "status": "completed"
    },
    "tags": []
   },
   "outputs": [
    {
     "data": {
      "image/png": "[encoded data removed]",
      "text/plain": [
       "<IPython.core.display.Image object>"
      ]
     },
     "execution_count": 9,
     "metadata": {},
     "output_type": "execute_result"
    }
   ],
   "source": [
    "plot_model(fernet, show_layer_names=True)"
   ]
  },
  {
   "cell_type": "markdown",
   "id": "cf9e0f3a",
   "metadata": {
    "papermill": {
     "duration": 0.008985,
     "end_time": "2022-06-16T17:49:58.397688",
     "exception": false,
     "start_time": "2022-06-16T17:49:58.388703",
     "status": "completed"
    },
    "tags": []
   },
   "source": [
    "# Checkpoint"
   ]
  },
  {
   "cell_type": "code",
   "execution_count": 10,
   "id": "86aad176",
   "metadata": {
    "execution": {
     "iopub.execute_input": "2022-06-16T17:49:58.417951Z",
     "iopub.status.busy": "2022-06-16T17:49:58.417630Z",
     "iopub.status.idle": "2022-06-16T17:49:58.762275Z",
     "shell.execute_reply": "2022-06-16T17:49:58.760589Z"
    },
    "papermill": {
     "duration": 0.35843,
     "end_time": "2022-06-16T17:49:58.765362",
     "exception": false,
     "start_time": "2022-06-16T17:49:58.406932",
     "status": "completed"
    },
    "tags": []
   },
   "outputs": [
    {
     "name": "stderr",
     "output_type": "stream",
     "text": [
      "2022-06-16 17:49:58.425355: I tensorflow/core/profiler/lib/profiler_session.cc:131] Profiler session initializing.\n",
      "2022-06-16 17:49:58.425404: I tensorflow/core/profiler/lib/profiler_session.cc:146] Profiler session started.\n",
      "2022-06-16 17:49:58.427402: I tensorflow/core/profiler/internal/gpu/cupti_tracer.cc:1614] Profiler found 1 GPUs\n",
      "2022-06-16 17:49:58.636228: I tensorflow/core/profiler/lib/profiler_session.cc:164] Profiler session tear down.\n",
      "2022-06-16 17:49:58.636397: I tensorflow/core/profiler/internal/gpu/cupti_tracer.cc:1748] CUPTI activity buffer flushed\n"
     ]
    }
   ],
   "source": [
    "chk_path = 'ferNet.h5'\n",
    "log_dir = \"checkpoint/logs/\" + datetime.datetime.now().strftime(\"%Y%m%d-%H%M%S\")\n",
    "\n",
    "checkpoint = ModelCheckpoint(filepath=chk_path,\n",
    "                             save_best_only=True,\n",
    "                             verbose=1,\n",
    "                             mode='min',\n",
    "                             moniter='val_accuracy')\n",
    "\n",
    "earlystop = EarlyStopping(monitor='val_accuracy', \n",
    "                          min_delta=0, \n",
    "                          patience=3, \n",
    "                          verbose=1, \n",
    "                          restore_best_weights=True)\n",
    "                        \n",
    "reduce_lr = ReduceLROnPlateau(monitor='val_accuracy', \n",
    "                              factor=0.2, \n",
    "                              patience=6, \n",
    "                              verbose=1, \n",
    "                              min_delta=0.0001)\n",
    "\n",
    "\n",
    "tensorboard_callback = tf.keras.callbacks.TensorBoard(log_dir=log_dir, histogram_freq=1)\n",
    "csv_logger = CSVLogger('training.log')\n",
    "\n",
    "callbacks = [checkpoint, reduce_lr, csv_logger]"
   ]
  },
  {
   "cell_type": "code",
   "execution_count": 11,
   "id": "7e0e26fe",
   "metadata": {
    "_kg_hide-output": true,
    "execution": {
     "iopub.execute_input": "2022-06-16T17:49:58.785383Z",
     "iopub.status.busy": "2022-06-16T17:49:58.785095Z",
     "iopub.status.idle": "2022-06-16T20:33:40.239357Z",
     "shell.execute_reply": "2022-06-16T20:33:40.238491Z"
    },
    "papermill": {
     "duration": 9821.466641,
     "end_time": "2022-06-16T20:33:40.241708",
     "exception": false,
     "start_time": "2022-06-16T17:49:58.775067",
     "status": "completed"
    },
    "scrolled": true,
    "tags": []
   },
   "outputs": [
    {
     "name": "stderr",
     "output_type": "stream",
     "text": [
      "2022-06-16 17:49:59.248699: I tensorflow/compiler/mlir/mlir_graph_optimization_pass.cc:185] None of the MLIR Optimization Passes are enabled (registered 2)\n"
     ]
    },
    {
     "name": "stdout",
     "output_type": "stream",
     "text": [
      "Epoch 1/150\n"
     ]
    },
    {
     "name": "stderr",
     "output_type": "stream",
     "text": [
      "2022-06-16 17:50:01.091921: I tensorflow/stream_executor/cuda/cuda_dnn.cc:369] Loaded cuDNN version 8005\n"
     ]
    },
    {
     "name": "stdout",
     "output_type": "stream",
     "text": [
      "448/448 [==============================] - 188s 404ms/step - loss: 4.2726 - accuracy: 0.2881 - val_loss: 8.1400 - val_accuracy: 0.0437\n",
      "\n",
      "Epoch 00001: val_loss improved from inf to 8.14003, saving model to ferNet.h5\n",
      "Epoch 2/150\n",
      "448/448 [==============================] - 42s 95ms/step - loss: 3.4644 - accuracy: 0.3503 - val_loss: 3.1080 - val_accuracy: 0.3938\n",
      "\n",
      "Epoch 00002: val_loss improved from 8.14003 to 3.10804, saving model to ferNet.h5\n",
      "Epoch 3/150\n",
      "448/448 [==============================] - 43s 95ms/step - loss: 2.9379 - accuracy: 0.3845 - val_loss: 2.6085 - val_accuracy: 0.4361\n",
      "\n",
      "Epoch 00003: val_loss improved from 3.10804 to 2.60849, saving model to ferNet.h5\n",
      "Epoch 4/150\n",
      "448/448 [==============================] - 42s 94ms/step - loss: 2.5200 - accuracy: 0.4116 - val_loss: 2.2321 - val_accuracy: 0.4714\n",
      "\n",
      "Epoch 00004: val_loss improved from 2.60849 to 2.23212, saving model to ferNet.h5\n",
      "Epoch 5/150\n",
      "448/448 [==============================] - 42s 93ms/step - loss: 2.2126 - accuracy: 0.4300 - val_loss: 1.9854 - val_accuracy: 0.4724\n",
      "\n",
      "Epoch 00005: val_loss improved from 2.23212 to 1.98540, saving model to ferNet.h5\n",
      "Epoch 6/150\n",
      "448/448 [==============================] - 40s 89ms/step - loss: 1.9763 - accuracy: 0.4536 - val_loss: 1.8094 - val_accuracy: 0.4821\n",
      "\n",
      "Epoch 00006: val_loss improved from 1.98540 to 1.80939, saving model to ferNet.h5\n",
      "Epoch 7/150\n",
      "448/448 [==============================] - 41s 91ms/step - loss: 1.7962 - accuracy: 0.4729 - val_loss: 1.6132 - val_accuracy: 0.5199\n",
      "\n",
      "Epoch 00007: val_loss improved from 1.80939 to 1.61319, saving model to ferNet.h5\n",
      "Epoch 8/150\n",
      "448/448 [==============================] - 52s 116ms/step - loss: 1.6595 - accuracy: 0.4937 - val_loss: 1.5382 - val_accuracy: 0.5220\n",
      "\n",
      "Epoch 00008: val_loss improved from 1.61319 to 1.53817, saving model to ferNet.h5\n",
      "Epoch 9/150\n",
      "448/448 [==============================] - 41s 92ms/step - loss: 1.5542 - accuracy: 0.5096 - val_loss: 1.4602 - val_accuracy: 0.5324\n",
      "\n",
      "Epoch 00009: val_loss improved from 1.53817 to 1.46019, saving model to ferNet.h5\n",
      "Epoch 10/150\n",
      "448/448 [==============================] - 40s 90ms/step - loss: 1.4597 - accuracy: 0.5279 - val_loss: 1.3574 - val_accuracy: 0.5632\n",
      "\n",
      "Epoch 00010: val_loss improved from 1.46019 to 1.35736, saving model to ferNet.h5\n",
      "Epoch 11/150\n",
      "448/448 [==============================] - 43s 96ms/step - loss: 1.3940 - accuracy: 0.5410 - val_loss: 1.3489 - val_accuracy: 0.5506\n",
      "\n",
      "Epoch 00011: val_loss improved from 1.35736 to 1.34887, saving model to ferNet.h5\n",
      "Epoch 12/150\n",
      "448/448 [==============================] - 42s 94ms/step - loss: 1.3317 - accuracy: 0.5547 - val_loss: 1.2492 - val_accuracy: 0.5843\n",
      "\n",
      "Epoch 00012: val_loss improved from 1.34887 to 1.24918, saving model to ferNet.h5\n",
      "Epoch 13/150\n",
      "448/448 [==============================] - 41s 92ms/step - loss: 1.2906 - accuracy: 0.5652 - val_loss: 1.2251 - val_accuracy: 0.5917\n",
      "\n",
      "Epoch 00013: val_loss improved from 1.24918 to 1.22508, saving model to ferNet.h5\n",
      "Epoch 14/150\n",
      "448/448 [==============================] - 41s 90ms/step - loss: 1.2447 - accuracy: 0.5799 - val_loss: 1.2392 - val_accuracy: 0.5809\n",
      "\n",
      "Epoch 00014: val_loss did not improve from 1.22508\n",
      "Epoch 15/150\n",
      "448/448 [==============================] - 45s 101ms/step - loss: 1.2017 - accuracy: 0.5935 - val_loss: 1.2045 - val_accuracy: 0.5947\n",
      "\n",
      "Epoch 00015: val_loss improved from 1.22508 to 1.20453, saving model to ferNet.h5\n",
      "Epoch 16/150\n",
      "448/448 [==============================] - 41s 91ms/step - loss: 1.1794 - accuracy: 0.5976 - val_loss: 1.1663 - val_accuracy: 0.5988\n",
      "\n",
      "Epoch 00016: val_loss improved from 1.20453 to 1.16629, saving model to ferNet.h5\n",
      "Epoch 17/150\n",
      "448/448 [==============================] - 40s 90ms/step - loss: 1.1493 - accuracy: 0.6083 - val_loss: 1.1761 - val_accuracy: 0.6041\n",
      "\n",
      "Epoch 00017: val_loss did not improve from 1.16629\n",
      "Epoch 18/150\n",
      "448/448 [==============================] - 41s 92ms/step - loss: 1.1219 - accuracy: 0.6146 - val_loss: 1.1343 - val_accuracy: 0.6169\n",
      "\n",
      "Epoch 00018: val_loss improved from 1.16629 to 1.13425, saving model to ferNet.h5\n",
      "Epoch 19/150\n",
      "448/448 [==============================] - 63s 140ms/step - loss: 1.0896 - accuracy: 0.6333 - val_loss: 1.1318 - val_accuracy: 0.6180\n",
      "\n",
      "Epoch 00019: val_loss improved from 1.13425 to 1.13185, saving model to ferNet.h5\n",
      "Epoch 20/150\n",
      "448/448 [==============================] - 53s 119ms/step - loss: 1.0686 - accuracy: 0.6378 - val_loss: 1.1472 - val_accuracy: 0.6172\n",
      "\n",
      "Epoch 00020: val_loss did not improve from 1.13185\n",
      "Epoch 21/150\n",
      "448/448 [==============================] - 40s 90ms/step - loss: 1.0419 - accuracy: 0.6478 - val_loss: 1.1090 - val_accuracy: 0.6292\n",
      "\n",
      "Epoch 00021: val_loss improved from 1.13185 to 1.10902, saving model to ferNet.h5\n",
      "Epoch 22/150\n",
      "448/448 [==============================] - 45s 101ms/step - loss: 1.0153 - accuracy: 0.6583 - val_loss: 1.1172 - val_accuracy: 0.6249\n",
      "\n",
      "Epoch 00022: val_loss did not improve from 1.10902\n",
      "Epoch 23/150\n",
      "448/448 [==============================] - 42s 95ms/step - loss: 0.9972 - accuracy: 0.6641 - val_loss: 1.1490 - val_accuracy: 0.6164\n",
      "\n",
      "Epoch 00023: val_loss did not improve from 1.10902\n",
      "Epoch 24/150\n",
      "448/448 [==============================] - 44s 99ms/step - loss: 0.9689 - accuracy: 0.6746 - val_loss: 1.0764 - val_accuracy: 0.6388\n",
      "\n",
      "Epoch 00024: val_loss improved from 1.10902 to 1.07641, saving model to ferNet.h5\n",
      "Epoch 25/150\n",
      "448/448 [==============================] - 40s 90ms/step - loss: 0.9625 - accuracy: 0.6755 - val_loss: 1.0873 - val_accuracy: 0.6374\n",
      "\n",
      "Epoch 00025: val_loss did not improve from 1.07641\n",
      "Epoch 26/150\n",
      "448/448 [==============================] - 41s 90ms/step - loss: 0.9315 - accuracy: 0.6892 - val_loss: 1.1029 - val_accuracy: 0.6381\n",
      "\n",
      "Epoch 00026: val_loss did not improve from 1.07641\n",
      "Epoch 27/150\n",
      "448/448 [==============================] - 40s 89ms/step - loss: 0.9150 - accuracy: 0.6972 - val_loss: 1.0917 - val_accuracy: 0.6419\n",
      "\n",
      "Epoch 00027: val_loss did not improve from 1.07641\n",
      "Epoch 28/150\n",
      "448/448 [==============================] - 41s 91ms/step - loss: 0.8962 - accuracy: 0.7034 - val_loss: 1.0889 - val_accuracy: 0.6362\n",
      "\n",
      "Epoch 00028: val_loss did not improve from 1.07641\n",
      "Epoch 29/150\n",
      "448/448 [==============================] - 44s 98ms/step - loss: 0.8768 - accuracy: 0.7101 - val_loss: 1.1176 - val_accuracy: 0.6476\n",
      "\n",
      "Epoch 00029: val_loss did not improve from 1.07641\n",
      "Epoch 30/150\n",
      "448/448 [==============================] - 43s 95ms/step - loss: 0.8632 - accuracy: 0.7171 - val_loss: 1.1015 - val_accuracy: 0.6427\n",
      "\n",
      "Epoch 00030: val_loss did not improve from 1.07641\n",
      "Epoch 31/150\n",
      "448/448 [==============================] - 61s 136ms/step - loss: 0.8437 - accuracy: 0.7243 - val_loss: 1.1408 - val_accuracy: 0.6381\n",
      "\n",
      "Epoch 00031: val_loss did not improve from 1.07641\n",
      "Epoch 32/150\n",
      "448/448 [==============================] - 41s 91ms/step - loss: 0.8346 - accuracy: 0.7278 - val_loss: 1.1428 - val_accuracy: 0.6417\n",
      "\n",
      "Epoch 00032: val_loss did not improve from 1.07641\n",
      "Epoch 33/150\n",
      "448/448 [==============================] - 41s 92ms/step - loss: 0.8135 - accuracy: 0.7340 - val_loss: 1.1349 - val_accuracy: 0.6401\n",
      "\n",
      "Epoch 00033: val_loss did not improve from 1.07641\n",
      "Epoch 34/150\n",
      "448/448 [==============================] - 43s 95ms/step - loss: 0.7992 - accuracy: 0.7387 - val_loss: 1.1521 - val_accuracy: 0.6413\n",
      "\n",
      "Epoch 00034: val_loss did not improve from 1.07641\n",
      "Epoch 35/150\n",
      "448/448 [==============================] - 42s 93ms/step - loss: 0.7821 - accuracy: 0.7461 - val_loss: 1.1290 - val_accuracy: 0.6542\n",
      "\n",
      "Epoch 00035: val_loss did not improve from 1.07641\n",
      "Epoch 36/150\n",
      "448/448 [==============================] - 41s 92ms/step - loss: 0.7737 - accuracy: 0.7510 - val_loss: 1.1544 - val_accuracy: 0.6377\n",
      "\n",
      "Epoch 00036: val_loss did not improve from 1.07641\n",
      "Epoch 37/150\n",
      "448/448 [==============================] - 40s 90ms/step - loss: 0.7552 - accuracy: 0.7575 - val_loss: 1.1021 - val_accuracy: 0.6515\n",
      "\n",
      "Epoch 00037: val_loss did not improve from 1.07641\n",
      "Epoch 38/150\n",
      "448/448 [==============================] - 41s 92ms/step - loss: 0.7395 - accuracy: 0.7641 - val_loss: 1.1500 - val_accuracy: 0.6466\n",
      "\n",
      "Epoch 00038: val_loss did not improve from 1.07641\n",
      "Epoch 39/150\n",
      "448/448 [==============================] - 43s 95ms/step - loss: 0.7306 - accuracy: 0.7671 - val_loss: 1.1885 - val_accuracy: 0.6447\n",
      "\n",
      "Epoch 00039: val_loss did not improve from 1.07641\n",
      "Epoch 40/150\n",
      "448/448 [==============================] - 42s 94ms/step - loss: 0.7121 - accuracy: 0.7724 - val_loss: 1.1414 - val_accuracy: 0.6523\n",
      "\n",
      "Epoch 00040: val_loss did not improve from 1.07641\n",
      "Epoch 41/150\n",
      "448/448 [==============================] - 43s 96ms/step - loss: 0.7056 - accuracy: 0.7781 - val_loss: 1.1035 - val_accuracy: 0.6554\n",
      "\n",
      "Epoch 00041: val_loss did not improve from 1.07641\n",
      "Epoch 42/150\n",
      "448/448 [==============================] - 44s 98ms/step - loss: 0.6965 - accuracy: 0.7807 - val_loss: 1.1252 - val_accuracy: 0.6493\n",
      "\n",
      "Epoch 00042: val_loss did not improve from 1.07641\n",
      "Epoch 43/150\n",
      "448/448 [==============================] - 42s 95ms/step - loss: 0.6773 - accuracy: 0.7876 - val_loss: 1.1327 - val_accuracy: 0.6568\n",
      "\n",
      "Epoch 00043: val_loss did not improve from 1.07641\n",
      "Epoch 44/150\n",
      "448/448 [==============================] - 42s 95ms/step - loss: 0.6701 - accuracy: 0.7889 - val_loss: 1.1353 - val_accuracy: 0.6588\n",
      "\n",
      "Epoch 00044: val_loss did not improve from 1.07641\n",
      "Epoch 45/150\n",
      "448/448 [==============================] - 43s 95ms/step - loss: 0.6629 - accuracy: 0.7944 - val_loss: 1.1522 - val_accuracy: 0.6509\n",
      "\n",
      "Epoch 00045: val_loss did not improve from 1.07641\n",
      "Epoch 46/150\n",
      "448/448 [==============================] - 43s 95ms/step - loss: 0.6546 - accuracy: 0.7949 - val_loss: 1.1824 - val_accuracy: 0.6540\n",
      "\n",
      "Epoch 00046: val_loss did not improve from 1.07641\n",
      "Epoch 47/150\n",
      "448/448 [==============================] - 43s 97ms/step - loss: 0.6380 - accuracy: 0.8008 - val_loss: 1.1920 - val_accuracy: 0.6556\n",
      "\n",
      "Epoch 00047: val_loss did not improve from 1.07641\n",
      "Epoch 48/150\n",
      "448/448 [==============================] - 43s 95ms/step - loss: 0.6253 - accuracy: 0.8034 - val_loss: 1.2026 - val_accuracy: 0.6525\n",
      "\n",
      "Epoch 00048: val_loss did not improve from 1.07641\n",
      "Epoch 49/150\n",
      "448/448 [==============================] - 42s 94ms/step - loss: 0.6188 - accuracy: 0.8076 - val_loss: 1.2760 - val_accuracy: 0.6480\n",
      "\n",
      "Epoch 00049: val_loss did not improve from 1.07641\n",
      "Epoch 50/150\n",
      "448/448 [==============================] - 44s 97ms/step - loss: 0.6150 - accuracy: 0.8086 - val_loss: 1.2902 - val_accuracy: 0.6599\n",
      "\n",
      "Epoch 00050: val_loss did not improve from 1.07641\n",
      "Epoch 51/150\n",
      "448/448 [==============================] - 43s 96ms/step - loss: 0.6014 - accuracy: 0.8171 - val_loss: 1.2218 - val_accuracy: 0.6646\n",
      "\n",
      "Epoch 00051: val_loss did not improve from 1.07641\n",
      "Epoch 52/150\n",
      "448/448 [==============================] - 42s 94ms/step - loss: 0.6004 - accuracy: 0.8126 - val_loss: 1.1662 - val_accuracy: 0.6588\n",
      "\n",
      "Epoch 00052: val_loss did not improve from 1.07641\n",
      "Epoch 53/150\n",
      "448/448 [==============================] - 41s 92ms/step - loss: 0.5951 - accuracy: 0.8179 - val_loss: 1.1856 - val_accuracy: 0.6549\n",
      "\n",
      "Epoch 00053: val_loss did not improve from 1.07641\n",
      "Epoch 54/150\n",
      "448/448 [==============================] - 42s 94ms/step - loss: 0.5923 - accuracy: 0.8189 - val_loss: 1.2426 - val_accuracy: 0.6592\n",
      "\n",
      "Epoch 00054: val_loss did not improve from 1.07641\n",
      "Epoch 55/150\n",
      "448/448 [==============================] - 43s 97ms/step - loss: 0.5784 - accuracy: 0.8238 - val_loss: 1.2314 - val_accuracy: 0.6564\n",
      "\n",
      "Epoch 00055: val_loss did not improve from 1.07641\n",
      "Epoch 56/150\n",
      "448/448 [==============================] - 44s 97ms/step - loss: 0.5669 - accuracy: 0.8274 - val_loss: 1.1892 - val_accuracy: 0.6643\n",
      "\n",
      "Epoch 00056: val_loss did not improve from 1.07641\n",
      "Epoch 57/150\n",
      "448/448 [==============================] - 43s 97ms/step - loss: 0.5639 - accuracy: 0.8271 - val_loss: 1.2015 - val_accuracy: 0.6564\n",
      "\n",
      "Epoch 00057: val_loss did not improve from 1.07641\n",
      "\n",
      "Epoch 00057: ReduceLROnPlateau reducing learning rate to 1.9999999494757503e-05.\n",
      "Epoch 58/150\n",
      "448/448 [==============================] - 43s 96ms/step - loss: 0.5190 - accuracy: 0.8440 - val_loss: 1.2382 - val_accuracy: 0.6659\n",
      "\n",
      "Epoch 00058: val_loss did not improve from 1.07641\n",
      "Epoch 59/150\n",
      "448/448 [==============================] - 43s 95ms/step - loss: 0.4906 - accuracy: 0.8550 - val_loss: 1.2185 - val_accuracy: 0.6670\n",
      "\n",
      "Epoch 00059: val_loss did not improve from 1.07641\n",
      "Epoch 60/150\n",
      "448/448 [==============================] - 42s 95ms/step - loss: 0.4757 - accuracy: 0.8568 - val_loss: 1.2262 - val_accuracy: 0.6703\n",
      "\n",
      "Epoch 00060: val_loss did not improve from 1.07641\n",
      "Epoch 61/150\n",
      "448/448 [==============================] - 44s 97ms/step - loss: 0.4678 - accuracy: 0.8641 - val_loss: 1.2329 - val_accuracy: 0.6694\n",
      "\n",
      "Epoch 00061: val_loss did not improve from 1.07641\n",
      "Epoch 62/150\n",
      "448/448 [==============================] - 44s 98ms/step - loss: 0.4527 - accuracy: 0.8676 - val_loss: 1.2435 - val_accuracy: 0.6701\n",
      "\n",
      "Epoch 00062: val_loss did not improve from 1.07641\n",
      "Epoch 63/150\n",
      "448/448 [==============================] - 43s 96ms/step - loss: 0.4526 - accuracy: 0.8655 - val_loss: 1.2271 - val_accuracy: 0.6669\n",
      "\n",
      "Epoch 00063: val_loss did not improve from 1.07641\n",
      "Epoch 64/150\n",
      "448/448 [==============================] - 42s 93ms/step - loss: 0.4513 - accuracy: 0.8670 - val_loss: 1.2351 - val_accuracy: 0.6677\n",
      "\n",
      "Epoch 00064: val_loss did not improve from 1.07641\n",
      "Epoch 65/150\n",
      "448/448 [==============================] - 42s 95ms/step - loss: 0.4377 - accuracy: 0.8717 - val_loss: 1.2580 - val_accuracy: 0.6680\n",
      "\n",
      "Epoch 00065: val_loss did not improve from 1.07641\n",
      "Epoch 66/150\n",
      "448/448 [==============================] - 52s 117ms/step - loss: 0.4383 - accuracy: 0.8741 - val_loss: 1.2795 - val_accuracy: 0.6664\n",
      "\n",
      "Epoch 00066: val_loss did not improve from 1.07641\n",
      "\n",
      "Epoch 00066: ReduceLROnPlateau reducing learning rate to 3.999999898951501e-06.\n",
      "Epoch 67/150\n",
      "448/448 [==============================] - 45s 99ms/step - loss: 0.4327 - accuracy: 0.8728 - val_loss: 1.2624 - val_accuracy: 0.6696\n",
      "\n",
      "Epoch 00067: val_loss did not improve from 1.07641\n",
      "Epoch 68/150\n",
      "448/448 [==============================] - 44s 98ms/step - loss: 0.4293 - accuracy: 0.8731 - val_loss: 1.2529 - val_accuracy: 0.6705\n",
      "\n",
      "Epoch 00068: val_loss did not improve from 1.07641\n",
      "Epoch 69/150\n",
      "448/448 [==============================] - 44s 97ms/step - loss: 0.4271 - accuracy: 0.8777 - val_loss: 1.2686 - val_accuracy: 0.6689\n",
      "\n",
      "Epoch 00069: val_loss did not improve from 1.07641\n",
      "Epoch 70/150\n",
      "448/448 [==============================] - 42s 95ms/step - loss: 0.4217 - accuracy: 0.8775 - val_loss: 1.2689 - val_accuracy: 0.6710\n",
      "\n",
      "Epoch 00070: val_loss did not improve from 1.07641\n",
      "Epoch 71/150\n",
      "448/448 [==============================] - 44s 97ms/step - loss: 0.4160 - accuracy: 0.8819 - val_loss: 1.2771 - val_accuracy: 0.6696\n",
      "\n",
      "Epoch 00071: val_loss did not improve from 1.07641\n",
      "Epoch 72/150\n",
      "448/448 [==============================] - 45s 100ms/step - loss: 0.4147 - accuracy: 0.8785 - val_loss: 1.2746 - val_accuracy: 0.6702\n",
      "\n",
      "Epoch 00072: val_loss did not improve from 1.07641\n",
      "Epoch 73/150\n",
      "448/448 [==============================] - 42s 94ms/step - loss: 0.4130 - accuracy: 0.8810 - val_loss: 1.2798 - val_accuracy: 0.6713\n",
      "\n",
      "Epoch 00073: val_loss did not improve from 1.07641\n",
      "Epoch 74/150\n",
      "448/448 [==============================] - 55s 124ms/step - loss: 0.4119 - accuracy: 0.8805 - val_loss: 1.2730 - val_accuracy: 0.6722\n",
      "\n",
      "Epoch 00074: val_loss did not improve from 1.07641\n",
      "Epoch 75/150\n",
      "448/448 [==============================] - 74s 165ms/step - loss: 0.4240 - accuracy: 0.8773 - val_loss: 1.2812 - val_accuracy: 0.6706\n",
      "\n",
      "Epoch 00075: val_loss did not improve from 1.07641\n",
      "Epoch 76/150\n",
      "448/448 [==============================] - 76s 170ms/step - loss: 0.4164 - accuracy: 0.8797 - val_loss: 1.2749 - val_accuracy: 0.6715\n",
      "\n",
      "Epoch 00076: val_loss did not improve from 1.07641\n",
      "Epoch 77/150\n",
      "448/448 [==============================] - 46s 102ms/step - loss: 0.4125 - accuracy: 0.8802 - val_loss: 1.2693 - val_accuracy: 0.6723\n",
      "\n",
      "Epoch 00077: val_loss did not improve from 1.07641\n",
      "Epoch 78/150\n",
      "448/448 [==============================] - 42s 93ms/step - loss: 0.4101 - accuracy: 0.8825 - val_loss: 1.2726 - val_accuracy: 0.6705\n",
      "\n",
      "Epoch 00078: val_loss did not improve from 1.07641\n",
      "Epoch 79/150\n",
      "448/448 [==============================] - 41s 92ms/step - loss: 0.4060 - accuracy: 0.8828 - val_loss: 1.2790 - val_accuracy: 0.6734\n",
      "\n",
      "Epoch 00079: val_loss did not improve from 1.07641\n",
      "Epoch 80/150\n",
      "448/448 [==============================] - 42s 94ms/step - loss: 0.4014 - accuracy: 0.8829 - val_loss: 1.2861 - val_accuracy: 0.6703\n",
      "\n",
      "Epoch 00080: val_loss did not improve from 1.07641\n",
      "Epoch 81/150\n",
      "448/448 [==============================] - 43s 96ms/step - loss: 0.4031 - accuracy: 0.8832 - val_loss: 1.2781 - val_accuracy: 0.6719\n",
      "\n",
      "Epoch 00081: val_loss did not improve from 1.07641\n",
      "Epoch 82/150\n",
      "448/448 [==============================] - 43s 96ms/step - loss: 0.4035 - accuracy: 0.8821 - val_loss: 1.2820 - val_accuracy: 0.6729\n",
      "\n",
      "Epoch 00082: val_loss did not improve from 1.07641\n",
      "Epoch 83/150\n",
      "448/448 [==============================] - 43s 96ms/step - loss: 0.3992 - accuracy: 0.8865 - val_loss: 1.2821 - val_accuracy: 0.6735\n",
      "\n",
      "Epoch 00083: val_loss did not improve from 1.07641\n",
      "Epoch 84/150\n",
      "448/448 [==============================] - 43s 95ms/step - loss: 0.3996 - accuracy: 0.8843 - val_loss: 1.2853 - val_accuracy: 0.6716\n",
      "\n",
      "Epoch 00084: val_loss did not improve from 1.07641\n",
      "Epoch 85/150\n",
      "448/448 [==============================] - 42s 94ms/step - loss: 0.4011 - accuracy: 0.8842 - val_loss: 1.2845 - val_accuracy: 0.6716\n",
      "\n",
      "Epoch 00085: val_loss did not improve from 1.07641\n",
      "Epoch 86/150\n",
      "448/448 [==============================] - 43s 97ms/step - loss: 0.3991 - accuracy: 0.8842 - val_loss: 1.2788 - val_accuracy: 0.6731\n",
      "\n",
      "Epoch 00086: val_loss did not improve from 1.07641\n",
      "Epoch 87/150\n",
      "448/448 [==============================] - 43s 95ms/step - loss: 0.3998 - accuracy: 0.8864 - val_loss: 1.2782 - val_accuracy: 0.6726\n",
      "\n",
      "Epoch 00087: val_loss did not improve from 1.07641\n",
      "Epoch 88/150\n",
      "448/448 [==============================] - 42s 93ms/step - loss: 0.3943 - accuracy: 0.8866 - val_loss: 1.2795 - val_accuracy: 0.6717\n",
      "\n",
      "Epoch 00088: val_loss did not improve from 1.07641\n",
      "Epoch 89/150\n",
      "448/448 [==============================] - 42s 94ms/step - loss: 0.3954 - accuracy: 0.8846 - val_loss: 1.2795 - val_accuracy: 0.6724\n",
      "\n",
      "Epoch 00089: val_loss did not improve from 1.07641\n",
      "\n",
      "Epoch 00089: ReduceLROnPlateau reducing learning rate to 7.999999979801942e-07.\n",
      "Epoch 90/150\n",
      "448/448 [==============================] - 42s 94ms/step - loss: 0.3949 - accuracy: 0.8859 - val_loss: 1.2793 - val_accuracy: 0.6712\n",
      "\n",
      "Epoch 00090: val_loss did not improve from 1.07641\n",
      "Epoch 91/150\n",
      "448/448 [==============================] - 42s 95ms/step - loss: 0.3911 - accuracy: 0.8885 - val_loss: 1.2781 - val_accuracy: 0.6733\n",
      "\n",
      "Epoch 00091: val_loss did not improve from 1.07641\n",
      "Epoch 92/150\n",
      "448/448 [==============================] - 41s 92ms/step - loss: 0.3950 - accuracy: 0.8858 - val_loss: 1.2759 - val_accuracy: 0.6726\n",
      "\n",
      "Epoch 00092: val_loss did not improve from 1.07641\n",
      "Epoch 93/150\n",
      "448/448 [==============================] - 42s 93ms/step - loss: 0.3956 - accuracy: 0.8836 - val_loss: 1.2792 - val_accuracy: 0.6716\n",
      "\n",
      "Epoch 00093: val_loss did not improve from 1.07641\n",
      "Epoch 94/150\n",
      "448/448 [==============================] - 41s 91ms/step - loss: 0.3943 - accuracy: 0.8862 - val_loss: 1.2821 - val_accuracy: 0.6715\n",
      "\n",
      "Epoch 00094: val_loss did not improve from 1.07641\n",
      "Epoch 95/150\n",
      "448/448 [==============================] - 41s 92ms/step - loss: 0.3909 - accuracy: 0.8866 - val_loss: 1.2792 - val_accuracy: 0.6722\n",
      "\n",
      "Epoch 00095: val_loss did not improve from 1.07641\n",
      "\n",
      "Epoch 00095: ReduceLROnPlateau reducing learning rate to 1.600000018697756e-07.\n",
      "Epoch 96/150\n",
      "448/448 [==============================] - 44s 97ms/step - loss: 0.3917 - accuracy: 0.8893 - val_loss: 1.2813 - val_accuracy: 0.6719\n",
      "\n",
      "Epoch 00096: val_loss did not improve from 1.07641\n",
      "Epoch 97/150\n",
      "448/448 [==============================] - 41s 91ms/step - loss: 0.3961 - accuracy: 0.8828 - val_loss: 1.2821 - val_accuracy: 0.6719\n",
      "\n",
      "Epoch 00097: val_loss did not improve from 1.07641\n",
      "Epoch 98/150\n",
      "448/448 [==============================] - 41s 92ms/step - loss: 0.3974 - accuracy: 0.8864 - val_loss: 1.2807 - val_accuracy: 0.6717\n",
      "\n",
      "Epoch 00098: val_loss did not improve from 1.07641\n",
      "Epoch 99/150\n",
      "448/448 [==============================] - 48s 106ms/step - loss: 0.3852 - accuracy: 0.8902 - val_loss: 1.2821 - val_accuracy: 0.6719\n",
      "\n",
      "Epoch 00099: val_loss did not improve from 1.07641\n",
      "Epoch 100/150\n",
      "448/448 [==============================] - 43s 96ms/step - loss: 0.3928 - accuracy: 0.8878 - val_loss: 1.2815 - val_accuracy: 0.6717\n",
      "\n",
      "Epoch 00100: val_loss did not improve from 1.07641\n",
      "Epoch 101/150\n",
      "448/448 [==============================] - 42s 94ms/step - loss: 0.3914 - accuracy: 0.8869 - val_loss: 1.2828 - val_accuracy: 0.6719\n",
      "\n",
      "Epoch 00101: val_loss did not improve from 1.07641\n",
      "\n",
      "Epoch 00101: ReduceLROnPlateau reducing learning rate to 3.199999980552093e-08.\n",
      "Epoch 102/150\n",
      "448/448 [==============================] - 42s 93ms/step - loss: 0.3983 - accuracy: 0.8827 - val_loss: 1.2820 - val_accuracy: 0.6723\n",
      "\n",
      "Epoch 00102: val_loss did not improve from 1.07641\n",
      "Epoch 103/150\n",
      "448/448 [==============================] - 41s 92ms/step - loss: 0.3882 - accuracy: 0.8892 - val_loss: 1.2829 - val_accuracy: 0.6723\n",
      "\n",
      "Epoch 00103: val_loss did not improve from 1.07641\n",
      "Epoch 104/150\n",
      "448/448 [==============================] - 41s 91ms/step - loss: 0.3959 - accuracy: 0.8855 - val_loss: 1.2813 - val_accuracy: 0.6720\n",
      "\n",
      "Epoch 00104: val_loss did not improve from 1.07641\n",
      "Epoch 105/150\n",
      "448/448 [==============================] - 42s 95ms/step - loss: 0.3979 - accuracy: 0.8857 - val_loss: 1.2816 - val_accuracy: 0.6722\n",
      "\n",
      "Epoch 00105: val_loss did not improve from 1.07641\n",
      "Epoch 106/150\n",
      "448/448 [==============================] - 40s 90ms/step - loss: 0.3949 - accuracy: 0.8854 - val_loss: 1.2831 - val_accuracy: 0.6719\n",
      "\n",
      "Epoch 00106: val_loss did not improve from 1.07641\n",
      "Epoch 107/150\n",
      "448/448 [==============================] - 41s 91ms/step - loss: 0.3865 - accuracy: 0.8894 - val_loss: 1.2839 - val_accuracy: 0.6720\n",
      "\n",
      "Epoch 00107: val_loss did not improve from 1.07641\n",
      "\n",
      "Epoch 00107: ReduceLROnPlateau reducing learning rate to 6.399999818995639e-09.\n",
      "Epoch 108/150\n",
      "448/448 [==============================] - 41s 91ms/step - loss: 0.3883 - accuracy: 0.8888 - val_loss: 1.2815 - val_accuracy: 0.6723\n",
      "\n",
      "Epoch 00108: val_loss did not improve from 1.07641\n",
      "Epoch 109/150\n",
      "448/448 [==============================] - 41s 91ms/step - loss: 0.3942 - accuracy: 0.8858 - val_loss: 1.2835 - val_accuracy: 0.6720\n",
      "\n",
      "Epoch 00109: val_loss did not improve from 1.07641\n",
      "Epoch 110/150\n",
      "448/448 [==============================] - 41s 92ms/step - loss: 0.3973 - accuracy: 0.8849 - val_loss: 1.2827 - val_accuracy: 0.6724\n",
      "\n",
      "Epoch 00110: val_loss did not improve from 1.07641\n",
      "Epoch 111/150\n",
      "448/448 [==============================] - 49s 109ms/step - loss: 0.3917 - accuracy: 0.8879 - val_loss: 1.2827 - val_accuracy: 0.6724\n",
      "\n",
      "Epoch 00111: val_loss did not improve from 1.07641\n",
      "Epoch 112/150\n",
      "448/448 [==============================] - 61s 137ms/step - loss: 0.3965 - accuracy: 0.8844 - val_loss: 1.2849 - val_accuracy: 0.6716\n",
      "\n",
      "Epoch 00112: val_loss did not improve from 1.07641\n",
      "Epoch 113/150\n",
      "448/448 [==============================] - 47s 104ms/step - loss: 0.3926 - accuracy: 0.8860 - val_loss: 1.2831 - val_accuracy: 0.6720\n",
      "\n",
      "Epoch 00113: val_loss did not improve from 1.07641\n",
      "\n",
      "Epoch 00113: ReduceLROnPlateau reducing learning rate to 1.279999928271991e-09.\n",
      "Epoch 114/150\n",
      "448/448 [==============================] - 42s 93ms/step - loss: 0.3917 - accuracy: 0.8861 - val_loss: 1.2829 - val_accuracy: 0.6719\n",
      "\n",
      "Epoch 00114: val_loss did not improve from 1.07641\n",
      "Epoch 115/150\n",
      "448/448 [==============================] - 42s 93ms/step - loss: 0.3938 - accuracy: 0.8878 - val_loss: 1.2817 - val_accuracy: 0.6726\n",
      "\n",
      "Epoch 00115: val_loss did not improve from 1.07641\n",
      "Epoch 116/150\n",
      "448/448 [==============================] - 41s 92ms/step - loss: 0.3860 - accuracy: 0.8886 - val_loss: 1.2826 - val_accuracy: 0.6723\n",
      "\n",
      "Epoch 00116: val_loss did not improve from 1.07641\n",
      "Epoch 117/150\n",
      "448/448 [==============================] - 42s 93ms/step - loss: 0.3873 - accuracy: 0.8901 - val_loss: 1.2827 - val_accuracy: 0.6719\n",
      "\n",
      "Epoch 00117: val_loss did not improve from 1.07641\n",
      "Epoch 118/150\n",
      "448/448 [==============================] - 41s 92ms/step - loss: 0.3928 - accuracy: 0.8858 - val_loss: 1.2819 - val_accuracy: 0.6722\n",
      "\n",
      "Epoch 00118: val_loss did not improve from 1.07641\n",
      "Epoch 119/150\n",
      "448/448 [==============================] - 43s 97ms/step - loss: 0.3958 - accuracy: 0.8855 - val_loss: 1.2854 - val_accuracy: 0.6719\n",
      "\n",
      "Epoch 00119: val_loss did not improve from 1.07641\n",
      "\n",
      "Epoch 00119: ReduceLROnPlateau reducing learning rate to 2.55999976772614e-10.\n",
      "Epoch 120/150\n",
      "448/448 [==============================] - 42s 93ms/step - loss: 0.3893 - accuracy: 0.8872 - val_loss: 1.2806 - val_accuracy: 0.6729\n",
      "\n",
      "Epoch 00120: val_loss did not improve from 1.07641\n",
      "Epoch 121/150\n",
      "448/448 [==============================] - 43s 97ms/step - loss: 0.3974 - accuracy: 0.8844 - val_loss: 1.2826 - val_accuracy: 0.6723\n",
      "\n",
      "Epoch 00121: val_loss did not improve from 1.07641\n",
      "Epoch 122/150\n",
      "448/448 [==============================] - 44s 99ms/step - loss: 0.3966 - accuracy: 0.8870 - val_loss: 1.2797 - val_accuracy: 0.6719\n",
      "\n",
      "Epoch 00122: val_loss did not improve from 1.07641\n",
      "Epoch 123/150\n",
      "448/448 [==============================] - 43s 96ms/step - loss: 0.3935 - accuracy: 0.8876 - val_loss: 1.2842 - val_accuracy: 0.6722\n",
      "\n",
      "Epoch 00123: val_loss did not improve from 1.07641\n",
      "Epoch 124/150\n",
      "448/448 [==============================] - 43s 95ms/step - loss: 0.3958 - accuracy: 0.8854 - val_loss: 1.2830 - val_accuracy: 0.6720\n",
      "\n",
      "Epoch 00124: val_loss did not improve from 1.07641\n",
      "Epoch 125/150\n",
      "448/448 [==============================] - 45s 100ms/step - loss: 0.3914 - accuracy: 0.8872 - val_loss: 1.2834 - val_accuracy: 0.6722\n",
      "\n",
      "Epoch 00125: val_loss did not improve from 1.07641\n",
      "\n",
      "Epoch 00125: ReduceLROnPlateau reducing learning rate to 5.119999424429978e-11.\n",
      "Epoch 126/150\n",
      "448/448 [==============================] - 43s 95ms/step - loss: 0.3969 - accuracy: 0.8848 - val_loss: 1.2830 - val_accuracy: 0.6722\n",
      "\n",
      "Epoch 00126: val_loss did not improve from 1.07641\n",
      "Epoch 127/150\n",
      "448/448 [==============================] - 43s 95ms/step - loss: 0.3853 - accuracy: 0.8908 - val_loss: 1.2832 - val_accuracy: 0.6719\n",
      "\n",
      "Epoch 00127: val_loss did not improve from 1.07641\n",
      "Epoch 128/150\n",
      "448/448 [==============================] - 43s 95ms/step - loss: 0.3902 - accuracy: 0.8882 - val_loss: 1.2815 - val_accuracy: 0.6720\n",
      "\n",
      "Epoch 00128: val_loss did not improve from 1.07641\n",
      "Epoch 129/150\n",
      "448/448 [==============================] - 44s 98ms/step - loss: 0.3922 - accuracy: 0.8871 - val_loss: 1.2811 - val_accuracy: 0.6727\n",
      "\n",
      "Epoch 00129: val_loss did not improve from 1.07641\n",
      "Epoch 130/150\n",
      "448/448 [==============================] - 42s 95ms/step - loss: 0.3998 - accuracy: 0.8848 - val_loss: 1.2809 - val_accuracy: 0.6723\n",
      "\n",
      "Epoch 00130: val_loss did not improve from 1.07641\n",
      "Epoch 131/150\n",
      "448/448 [==============================] - 42s 95ms/step - loss: 0.4021 - accuracy: 0.8829 - val_loss: 1.2833 - val_accuracy: 0.6717\n",
      "\n",
      "Epoch 00131: val_loss did not improve from 1.07641\n",
      "\n",
      "Epoch 00131: ReduceLROnPlateau reducing learning rate to 1.0239999126415712e-11.\n",
      "Epoch 132/150\n",
      "448/448 [==============================] - 42s 93ms/step - loss: 0.3920 - accuracy: 0.8873 - val_loss: 1.2821 - val_accuracy: 0.6719\n",
      "\n",
      "Epoch 00132: val_loss did not improve from 1.07641\n",
      "Epoch 133/150\n",
      "448/448 [==============================] - 45s 101ms/step - loss: 0.3974 - accuracy: 0.8859 - val_loss: 1.2848 - val_accuracy: 0.6715\n",
      "\n",
      "Epoch 00133: val_loss did not improve from 1.07641\n",
      "Epoch 134/150\n",
      "448/448 [==============================] - 42s 94ms/step - loss: 0.3922 - accuracy: 0.8872 - val_loss: 1.2808 - val_accuracy: 0.6720\n",
      "\n",
      "Epoch 00134: val_loss did not improve from 1.07641\n",
      "Epoch 135/150\n",
      "448/448 [==============================] - 42s 93ms/step - loss: 0.3919 - accuracy: 0.8875 - val_loss: 1.2828 - val_accuracy: 0.6720\n",
      "\n",
      "Epoch 00135: val_loss did not improve from 1.07641\n",
      "Epoch 136/150\n",
      "448/448 [==============================] - 42s 94ms/step - loss: 0.3974 - accuracy: 0.8855 - val_loss: 1.2823 - val_accuracy: 0.6724\n",
      "\n",
      "Epoch 00136: val_loss did not improve from 1.07641\n",
      "Epoch 137/150\n",
      "448/448 [==============================] - 42s 93ms/step - loss: 0.3921 - accuracy: 0.8861 - val_loss: 1.2836 - val_accuracy: 0.6717\n",
      "\n",
      "Epoch 00137: val_loss did not improve from 1.07641\n",
      "\n",
      "Epoch 00137: ReduceLROnPlateau reducing learning rate to 2.0479997905886727e-12.\n",
      "Epoch 138/150\n",
      "448/448 [==============================] - 41s 93ms/step - loss: 0.3881 - accuracy: 0.8891 - val_loss: 1.2802 - val_accuracy: 0.6724\n",
      "\n",
      "Epoch 00138: val_loss did not improve from 1.07641\n",
      "Epoch 139/150\n",
      "448/448 [==============================] - 43s 95ms/step - loss: 0.3874 - accuracy: 0.8880 - val_loss: 1.2841 - val_accuracy: 0.6722\n",
      "\n",
      "Epoch 00139: val_loss did not improve from 1.07641\n",
      "Epoch 140/150\n",
      "448/448 [==============================] - 42s 94ms/step - loss: 0.3921 - accuracy: 0.8872 - val_loss: 1.2823 - val_accuracy: 0.6723\n",
      "\n",
      "Epoch 00140: val_loss did not improve from 1.07641\n",
      "Epoch 141/150\n",
      "448/448 [==============================] - 42s 93ms/step - loss: 0.3915 - accuracy: 0.8868 - val_loss: 1.2818 - val_accuracy: 0.6724\n",
      "\n",
      "Epoch 00141: val_loss did not improve from 1.07641\n",
      "Epoch 142/150\n",
      "448/448 [==============================] - 41s 91ms/step - loss: 0.3900 - accuracy: 0.8879 - val_loss: 1.2822 - val_accuracy: 0.6722\n",
      "\n",
      "Epoch 00142: val_loss did not improve from 1.07641\n",
      "Epoch 143/150\n",
      "448/448 [==============================] - 42s 94ms/step - loss: 0.3934 - accuracy: 0.8872 - val_loss: 1.2810 - val_accuracy: 0.6724\n",
      "\n",
      "Epoch 00143: val_loss did not improve from 1.07641\n",
      "\n",
      "Epoch 00143: ReduceLROnPlateau reducing learning rate to 4.0959995811773456e-13.\n",
      "Epoch 144/150\n",
      "448/448 [==============================] - 41s 91ms/step - loss: 0.3920 - accuracy: 0.8884 - val_loss: 1.2816 - val_accuracy: 0.6723\n",
      "\n",
      "Epoch 00144: val_loss did not improve from 1.07641\n",
      "Epoch 145/150\n",
      "448/448 [==============================] - 41s 92ms/step - loss: 0.3941 - accuracy: 0.8870 - val_loss: 1.2815 - val_accuracy: 0.6719\n",
      "\n",
      "Epoch 00145: val_loss did not improve from 1.07641\n",
      "Epoch 146/150\n",
      "448/448 [==============================] - 40s 89ms/step - loss: 0.3975 - accuracy: 0.8846 - val_loss: 1.2836 - val_accuracy: 0.6719\n",
      "\n",
      "Epoch 00146: val_loss did not improve from 1.07641\n",
      "Epoch 147/150\n",
      "448/448 [==============================] - 43s 97ms/step - loss: 0.3870 - accuracy: 0.8905 - val_loss: 1.2822 - val_accuracy: 0.6723\n",
      "\n",
      "Epoch 00147: val_loss did not improve from 1.07641\n",
      "Epoch 148/150\n",
      "448/448 [==============================] - 47s 104ms/step - loss: 0.3978 - accuracy: 0.8849 - val_loss: 1.2818 - val_accuracy: 0.6724\n",
      "\n",
      "Epoch 00148: val_loss did not improve from 1.07641\n",
      "Epoch 149/150\n",
      "448/448 [==============================] - 42s 93ms/step - loss: 0.3990 - accuracy: 0.8839 - val_loss: 1.2833 - val_accuracy: 0.6720\n",
      "\n",
      "Epoch 00149: val_loss did not improve from 1.07641\n",
      "\n",
      "Epoch 00149: ReduceLROnPlateau reducing learning rate to 8.191999053934474e-14.\n",
      "Epoch 150/150\n",
      "448/448 [==============================] - 42s 93ms/step - loss: 0.3911 - accuracy: 0.8855 - val_loss: 1.2825 - val_accuracy: 0.6719\n",
      "\n",
      "Epoch 00150: val_loss did not improve from 1.07641\n"
     ]
    }
   ],
   "source": [
    "steps_per_epoch = training_set.n // training_set.batch_size\n",
    "validation_steps = test_set.n // test_set.batch_size\n",
    "\n",
    "hist = fernet.fit(x=training_set,\n",
    "                  validation_data=test_set,\n",
    "                  epochs=150,\n",
    "                  callbacks=callbacks,\n",
    "                  steps_per_epoch=steps_per_epoch,\n",
    "                  validation_steps=validation_steps)"
   ]
  },
  {
   "cell_type": "code",
   "execution_count": 12,
   "id": "ed16535c",
   "metadata": {
    "execution": {
     "iopub.execute_input": "2022-06-16T20:33:48.586388Z",
     "iopub.status.busy": "2022-06-16T20:33:48.586040Z",
     "iopub.status.idle": "2022-06-16T20:33:48.828374Z",
     "shell.execute_reply": "2022-06-16T20:33:48.827617Z"
    },
    "papermill": {
     "duration": 4.426591,
     "end_time": "2022-06-16T20:33:48.830241",
     "exception": false,
     "start_time": "2022-06-16T20:33:44.403650",
     "status": "completed"
    },
    "tags": []
   },
   "outputs": [
    {
     "data": {
      "text/plain": [
       "<matplotlib.legend.Legend at 0x7fdeff8e9d90>"
      ]
     },
     "execution_count": 12,
     "metadata": {},
     "output_type": "execute_result"
    },
    {
     "data": {
      "image/png": "[encoded data removed]",
      "text/plain": [
       "<Figure size 432x288 with 1 Axes>"
      ]
     },
     "metadata": {
      "needs_background": "light"
     },
     "output_type": "display_data"
    }
   ],
   "source": [
    "plt.plot(hist.history['loss'])\n",
    "plt.plot(hist.history['val_loss'])\n",
    "plt.title('model loss')\n",
    "plt.ylabel('loss')\n",
    "plt.xlabel('epoch')\n",
    "plt.legend(['train', 'test'], loc='upper right')"
   ]
  },
  {
   "cell_type": "code",
   "execution_count": 13,
   "id": "5d07190a",
   "metadata": {
    "execution": {
     "iopub.execute_input": "2022-06-16T20:33:57.630767Z",
     "iopub.status.busy": "2022-06-16T20:33:57.629964Z",
     "iopub.status.idle": "2022-06-16T20:33:57.855615Z",
     "shell.execute_reply": "2022-06-16T20:33:57.854878Z"
    },
    "papermill": {
     "duration": 4.522784,
     "end_time": "2022-06-16T20:33:57.857782",
     "exception": false,
     "start_time": "2022-06-16T20:33:53.334998",
     "status": "completed"
    },
    "tags": []
   },
   "outputs": [
    {
     "data": {
      "text/plain": [
       "<matplotlib.legend.Legend at 0x7fdf0d95c610>"
      ]
     },
     "execution_count": 13,
     "metadata": {},
     "output_type": "execute_result"
    },
    {
     "data": {
      "image/png": "[encoded data removed]",
      "text/plain": [
       "<Figure size 432x288 with 1 Axes>"
      ]
     },
     "metadata": {
      "needs_background": "light"
     },
     "output_type": "display_data"
    }
   ],
   "source": [
    "plt.plot(hist.history['accuracy'])\n",
    "plt.plot(hist.history['val_accuracy'])\n",
    "plt.title('model accuracy')\n",
    "plt.ylabel('accuracy')\n",
    "plt.xlabel('epoch')\n",
    "plt.legend(['train', 'test'], loc='upper right')"
   ]
  },
  {
   "cell_type": "code",
   "execution_count": 14,
   "id": "1442f8e1",
   "metadata": {
    "execution": {
     "iopub.execute_input": "2022-06-16T20:34:07.257651Z",
     "iopub.status.busy": "2022-06-16T20:34:07.257298Z",
     "iopub.status.idle": "2022-06-16T20:34:46.579889Z",
     "shell.execute_reply": "2022-06-16T20:34:46.578919Z"
    },
    "papermill": {
     "duration": 43.657767,
     "end_time": "2022-06-16T20:34:46.581642",
     "exception": false,
     "start_time": "2022-06-16T20:34:02.923875",
     "status": "completed"
    },
    "tags": []
   },
   "outputs": [
    {
     "name": "stdout",
     "output_type": "stream",
     "text": [
      "449/449 [==============================] - 33s 74ms/step - loss: 0.2264 - accuracy: 0.9574\n",
      "113/113 [==============================] - 6s 51ms/step - loss: 1.2828 - accuracy: 0.6718\n",
      "final train accuracy = 95.74 , validation accuracy = 67.18\n"
     ]
    }
   ],
   "source": [
    "train_loss, train_accu = fernet.evaluate(training_set)\n",
    "test_loss, test_accu = fernet.evaluate(test_set)\n",
    "print(\"final train accuracy = {:.2f} , validation accuracy = {:.2f}\".format(train_accu*100, test_accu*100))"
   ]
  },
  {
   "cell_type": "markdown",
   "id": "db7524c4",
   "metadata": {
    "papermill": {
     "duration": 4.285855,
     "end_time": "2022-06-16T20:34:55.083376",
     "exception": false,
     "start_time": "2022-06-16T20:34:50.797521",
     "status": "completed"
    },
    "tags": []
   },
   "source": [
    "# Result"
   ]
  },
  {
   "cell_type": "code",
   "execution_count": 15,
   "id": "3505cef1",
   "metadata": {
    "execution": {
     "iopub.execute_input": "2022-06-16T20:35:03.826350Z",
     "iopub.status.busy": "2022-06-16T20:35:03.825976Z",
     "iopub.status.idle": "2022-06-16T20:35:38.830157Z",
     "shell.execute_reply": "2022-06-16T20:35:38.829386Z"
    },
    "papermill": {
     "duration": 39.226612,
     "end_time": "2022-06-16T20:35:38.832100",
     "exception": false,
     "start_time": "2022-06-16T20:34:59.605488",
     "status": "completed"
    },
    "tags": []
   },
   "outputs": [
    {
     "name": "stdout",
     "output_type": "stream",
     "text": [
      "Confusion Matrix\n",
      "[[ 544   69  540 1015  688  689  450]\n",
      " [  54    6   70  117   75   67   47]\n",
      " [ 570   50  560 1045  731  673  468]\n",
      " [ 955  105 1015 1837 1266 1223  814]\n",
      " [ 714   69  688 1250  870  849  525]\n",
      " [ 669   73  672 1224  864  772  556]\n",
      " [ 457   56  430  813  560  530  325]]\n",
      "Classification Report\n",
      "              precision    recall  f1-score   support\n",
      "\n",
      "       angry       0.14      0.14      0.14      3995\n",
      "     disgust       0.01      0.01      0.01       436\n",
      "        fear       0.14      0.14      0.14      4097\n",
      "       happy       0.25      0.25      0.25      7215\n",
      "     neutral       0.17      0.18      0.17      4965\n",
      "         sad       0.16      0.16      0.16      4830\n",
      "    surprise       0.10      0.10      0.10      3171\n",
      "\n",
      "    accuracy                           0.17     28709\n",
      "   macro avg       0.14      0.14      0.14     28709\n",
      "weighted avg       0.17      0.17      0.17     28709\n",
      "\n"
     ]
    },
    {
     "data": {
      "image/png": "[encoded data removed]",
      "text/plain": [
       "<Figure size 576x576 with 2 Axes>"
      ]
     },
     "metadata": {
      "needs_background": "light"
     },
     "output_type": "display_data"
    }
   ],
   "source": [
    "y_pred = fernet.predict(training_set)\n",
    "y_pred = np.argmax(y_pred, axis=1)\n",
    "class_labels = test_set.class_indices\n",
    "class_labels = {v:k for k,v in class_labels.items()}\n",
    "\n",
    "cm_train = confusion_matrix(training_set.classes, y_pred)\n",
    "print('Confusion Matrix')\n",
    "print(cm_train)\n",
    "print('Classification Report')\n",
    "target_names = list(class_labels.values())\n",
    "print(classification_report(training_set.classes, y_pred, target_names=target_names))\n",
    "\n",
    "plt.figure(figsize=(8,8))\n",
    "plt.imshow(cm_train, interpolation='nearest')\n",
    "plt.colorbar()\n",
    "tick_mark = np.arange(len(target_names))\n",
    "_ = plt.xticks(tick_mark, target_names, rotation=90)\n",
    "_ = plt.yticks(tick_mark, target_names)"
   ]
  },
  {
   "cell_type": "code",
   "execution_count": 16,
   "id": "8c108ff6",
   "metadata": {
    "execution": {
     "iopub.execute_input": "2022-06-16T20:35:48.136520Z",
     "iopub.status.busy": "2022-06-16T20:35:48.136177Z",
     "iopub.status.idle": "2022-06-16T20:35:54.427277Z",
     "shell.execute_reply": "2022-06-16T20:35:54.426523Z"
    },
    "papermill": {
     "duration": 10.501362,
     "end_time": "2022-06-16T20:35:54.429224",
     "exception": false,
     "start_time": "2022-06-16T20:35:43.927862",
     "status": "completed"
    },
    "tags": []
   },
   "outputs": [
    {
     "name": "stdout",
     "output_type": "stream",
     "text": [
      "Confusion Matrix\n",
      "[[148  12 131 233 173 153 108]\n",
      " [ 21   1  17  31  20  14   7]\n",
      " [138  15 121 238 210 192 110]\n",
      " [238  22 218 449 339 280 228]\n",
      " [179   7 133 305 244 225 140]\n",
      " [183  10 134 349 236 202 133]\n",
      " [113   9  96 210 138 161 104]]\n",
      "Classification Report\n",
      "              precision    recall  f1-score   support\n",
      "\n",
      "       angry       0.15      0.15      0.15       958\n",
      "     disgust       0.01      0.01      0.01       111\n",
      "        fear       0.14      0.12      0.13      1024\n",
      "       happy       0.25      0.25      0.25      1774\n",
      "     neutral       0.18      0.20      0.19      1233\n",
      "         sad       0.16      0.16      0.16      1247\n",
      "    surprise       0.13      0.13      0.13       831\n",
      "\n",
      "    accuracy                           0.18      7178\n",
      "   macro avg       0.15      0.15      0.15      7178\n",
      "weighted avg       0.17      0.18      0.18      7178\n",
      "\n"
     ]
    },
    {
     "data": {
      "image/png": "[encoded data removed]",
      "text/plain": [
       "<Figure size 576x576 with 2 Axes>"
      ]
     },
     "metadata": {
      "needs_background": "light"
     },
     "output_type": "display_data"
    }
   ],
   "source": [
    "y_pred = fernet.predict(test_set)\n",
    "y_pred = np.argmax(y_pred, axis=1)\n",
    "class_labels = test_set.class_indices\n",
    "class_labels = {v:k for k,v in class_labels.items()}\n",
    "\n",
    "cm_test = confusion_matrix(test_set.classes, y_pred)\n",
    "print('Confusion Matrix')\n",
    "print(cm_test)\n",
    "print('Classification Report')\n",
    "target_names = list(class_labels.values())\n",
    "print(classification_report(test_set.classes, y_pred, target_names=target_names))\n",
    "\n",
    "plt.figure(figsize=(8,8))\n",
    "plt.imshow(cm_test, interpolation='nearest')\n",
    "plt.colorbar()\n",
    "tick_mark = np.arange(len(target_names))\n",
    "_ = plt.xticks(tick_mark, target_names, rotation=90)\n",
    "_ = plt.yticks(tick_mark, target_names)"
   ]
  },
  {
   "cell_type": "markdown",
   "id": "7277e4bb",
   "metadata": {
    "papermill": {
     "duration": 4.46012,
     "end_time": "2022-06-16T20:36:03.265545",
     "exception": false,
     "start_time": "2022-06-16T20:35:58.805425",
     "status": "completed"
    },
    "tags": []
   },
   "source": [
    "# Recommending Music"
   ]
  },
  {
   "cell_type": "code",
   "execution_count": 17,
   "id": "883a7a83",
   "metadata": {
    "execution": {
     "iopub.execute_input": "2022-06-16T20:36:11.878611Z",
     "iopub.status.busy": "2022-06-16T20:36:11.878258Z",
     "iopub.status.idle": "2022-06-16T20:36:11.922819Z",
     "shell.execute_reply": "2022-06-16T20:36:11.922117Z"
    },
    "papermill": {
     "duration": 4.364648,
     "end_time": "2022-06-16T20:36:11.924520",
     "exception": false,
     "start_time": "2022-06-16T20:36:07.559872",
     "status": "completed"
    },
    "tags": []
   },
   "outputs": [
    {
     "data": {
      "text/html": [
       "<div>\n",
       "<style scoped>\n",
       "    .dataframe tbody tr th:only-of-type {\n",
       "        vertical-align: middle;\n",
       "    }\n",
       "\n",
       "    .dataframe tbody tr th {\n",
       "        vertical-align: top;\n",
       "    }\n",
       "\n",
       "    .dataframe thead th {\n",
       "        text-align: right;\n",
       "    }\n",
       "</style>\n",
       "<table border=\"1\" class=\"dataframe\">\n",
       "  <thead>\n",
       "    <tr style=\"text-align: right;\">\n",
       "      <th></th>\n",
       "      <th>name</th>\n",
       "      <th>artist</th>\n",
       "      <th>mood</th>\n",
       "    </tr>\n",
       "  </thead>\n",
       "  <tbody>\n",
       "    <tr>\n",
       "      <th>0</th>\n",
       "      <td>1999</td>\n",
       "      <td>Prince</td>\n",
       "      <td>Happy</td>\n",
       "    </tr>\n",
       "    <tr>\n",
       "      <th>1</th>\n",
       "      <td>23</td>\n",
       "      <td>Blonde Redhead</td>\n",
       "      <td>Sad</td>\n",
       "    </tr>\n",
       "    <tr>\n",
       "      <th>2</th>\n",
       "      <td>9 Crimes</td>\n",
       "      <td>Damien Rice</td>\n",
       "      <td>Sad</td>\n",
       "    </tr>\n",
       "    <tr>\n",
       "      <th>3</th>\n",
       "      <td>99 Luftballons</td>\n",
       "      <td>Nena</td>\n",
       "      <td>Happy</td>\n",
       "    </tr>\n",
       "    <tr>\n",
       "      <th>4</th>\n",
       "      <td>A Boy Brushed Red Living In Black And White</td>\n",
       "      <td>Underoath</td>\n",
       "      <td>Energetic</td>\n",
       "    </tr>\n",
       "  </tbody>\n",
       "</table>\n",
       "</div>"
      ],
      "text/plain": [
       "                                          name          artist       mood\n",
       "0                                         1999          Prince      Happy\n",
       "1                                           23  Blonde Redhead        Sad\n",
       "2                                     9 Crimes     Damien Rice        Sad\n",
       "3                               99 Luftballons            Nena      Happy\n",
       "4  A Boy Brushed Red Living In Black And White       Underoath  Energetic"
      ]
     },
     "execution_count": 17,
     "metadata": {},
     "output_type": "execute_result"
    }
   ],
   "source": [
    "mood_music = pd.read_csv(\"../input/spotify-music-data-to-identify-the-moods/data_moods.csv\")\n",
    "mood_music = mood_music[['name','artist','mood']]\n",
    "mood_music.head()"
   ]
  },
  {
   "cell_type": "code",
   "execution_count": 18,
   "id": "23a86b96",
   "metadata": {
    "execution": {
     "iopub.execute_input": "2022-06-16T20:36:21.245401Z",
     "iopub.status.busy": "2022-06-16T20:36:21.245028Z",
     "iopub.status.idle": "2022-06-16T20:36:21.458970Z",
     "shell.execute_reply": "2022-06-16T20:36:21.458243Z"
    },
    "papermill": {
     "duration": 4.574112,
     "end_time": "2022-06-16T20:36:21.460773",
     "exception": false,
     "start_time": "2022-06-16T20:36:16.886661",
     "status": "completed"
    },
    "tags": []
   },
   "outputs": [
    {
     "data": {
      "image/png": "[encoded data removed]",
      "text/plain": [
       "<Figure size 432x288 with 1 Axes>"
      ]
     },
     "metadata": {
      "needs_background": "light"
     },
     "output_type": "display_data"
    }
   ],
   "source": [
    "image = cv2.imread('../input/fer2013/test/happy/PrivateTest_10077120.jpg',cv2.IMREAD_GRAYSCALE)\n",
    "\n",
    "plt.imshow(image,cmap='gray')\n",
    "plt.show()"
   ]
  },
  {
   "cell_type": "code",
   "execution_count": 19,
   "id": "d42f49b4",
   "metadata": {
    "execution": {
     "iopub.execute_input": "2022-06-16T20:36:30.177482Z",
     "iopub.status.busy": "2022-06-16T20:36:30.177134Z",
     "iopub.status.idle": "2022-06-16T20:36:30.333274Z",
     "shell.execute_reply": "2022-06-16T20:36:30.332472Z"
    },
    "papermill": {
     "duration": 4.344926,
     "end_time": "2022-06-16T20:36:30.335088",
     "exception": false,
     "start_time": "2022-06-16T20:36:25.990162",
     "status": "completed"
    },
    "tags": []
   },
   "outputs": [
    {
     "data": {
      "text/plain": [
       "3"
      ]
     },
     "execution_count": 19,
     "metadata": {},
     "output_type": "execute_result"
    }
   ],
   "source": [
    "image = cv2.resize(image,(48,48))\n",
    "img=np.array(image)\n",
    "img=img.reshape(1,48,48,1)\n",
    "predict_x=fernet.predict(img) \n",
    "result=np.argmax(predict_x,axis=1)\n",
    "result[0]"
   ]
  },
  {
   "cell_type": "code",
   "execution_count": 20,
   "id": "2cbb62eb",
   "metadata": {
    "execution": {
     "iopub.execute_input": "2022-06-16T20:36:39.216751Z",
     "iopub.status.busy": "2022-06-16T20:36:39.216376Z",
     "iopub.status.idle": "2022-06-16T20:36:39.240182Z",
     "shell.execute_reply": "2022-06-16T20:36:39.239445Z"
    },
    "papermill": {
     "duration": 4.580375,
     "end_time": "2022-06-16T20:36:39.241868",
     "exception": false,
     "start_time": "2022-06-16T20:36:34.661493",
     "status": "completed"
    },
    "tags": []
   },
   "outputs": [
    {
     "data": {
      "text/html": [
       "<div>\n",
       "<style scoped>\n",
       "    .dataframe tbody tr th:only-of-type {\n",
       "        vertical-align: middle;\n",
       "    }\n",
       "\n",
       "    .dataframe tbody tr th {\n",
       "        vertical-align: top;\n",
       "    }\n",
       "\n",
       "    .dataframe thead th {\n",
       "        text-align: right;\n",
       "    }\n",
       "</style>\n",
       "<table border=\"1\" class=\"dataframe\">\n",
       "  <thead>\n",
       "    <tr style=\"text-align: right;\">\n",
       "      <th></th>\n",
       "      <th>index</th>\n",
       "      <th>name</th>\n",
       "      <th>artist</th>\n",
       "      <th>mood</th>\n",
       "    </tr>\n",
       "  </thead>\n",
       "  <tbody>\n",
       "    <tr>\n",
       "      <th>0</th>\n",
       "      <td>563</td>\n",
       "      <td>The Safety Dance</td>\n",
       "      <td>Men Without Hats</td>\n",
       "      <td>Happy</td>\n",
       "    </tr>\n",
       "    <tr>\n",
       "      <th>1</th>\n",
       "      <td>503</td>\n",
       "      <td>Start Me Up - Remastered</td>\n",
       "      <td>The Rolling Stones</td>\n",
       "      <td>Happy</td>\n",
       "    </tr>\n",
       "    <tr>\n",
       "      <th>2</th>\n",
       "      <td>123</td>\n",
       "      <td>Daar Gaat Ze</td>\n",
       "      <td>Clouseau</td>\n",
       "      <td>Happy</td>\n",
       "    </tr>\n",
       "    <tr>\n",
       "      <th>3</th>\n",
       "      <td>533</td>\n",
       "      <td>Talking In Your Sleep</td>\n",
       "      <td>The Romantics</td>\n",
       "      <td>Happy</td>\n",
       "    </tr>\n",
       "    <tr>\n",
       "      <th>4</th>\n",
       "      <td>497</td>\n",
       "      <td>Someone New</td>\n",
       "      <td>Thomas Gold</td>\n",
       "      <td>Happy</td>\n",
       "    </tr>\n",
       "  </tbody>\n",
       "</table>\n",
       "</div>"
      ],
      "text/plain": [
       "   index                      name              artist   mood\n",
       "0    563          The Safety Dance    Men Without Hats  Happy\n",
       "1    503  Start Me Up - Remastered  The Rolling Stones  Happy\n",
       "2    123              Daar Gaat Ze            Clouseau  Happy\n",
       "3    533     Talking In Your Sleep       The Romantics  Happy\n",
       "4    497               Someone New         Thomas Gold  Happy"
      ]
     },
     "metadata": {},
     "output_type": "display_data"
    }
   ],
   "source": [
    "if(result[0]==0 or result[0]==1 or result[0]==2 ):\n",
    "    #for angery,disgust,fear\n",
    "    filter1=mood_music['mood']=='Calm'\n",
    "    f1=mood_music.where(filter1)\n",
    "    f1=f1.dropna()\n",
    "    f2 =f1.sample(n=5)\n",
    "    f2.reset_index(inplace=True)\n",
    "    display(f2)\n",
    "if(result[0]==3 or result[0]==4):\n",
    "    #for happy, neutral\n",
    "    filter1=mood_music['mood']=='Happy'\n",
    "    f1=mood_music.where(filter1)\n",
    "    f1=f1.dropna()\n",
    "    f2 =f1.sample(n=5)\n",
    "    f2.reset_index(inplace=True)\n",
    "    display(f2)\n",
    "if(result[0]==5):\n",
    "       #for Sad\n",
    "    filter1=mood_music['mood']=='Sad'\n",
    "    f1=mood_music.where(filter1)\n",
    "    f1=f1.dropna()\n",
    "    f2 =f1.sample(n=5)\n",
    "    f2.reset_index(inplace=True)\n",
    "    display(f2)\n",
    "if(result[0]==6):\n",
    "     #for surprise\n",
    "    filter1=mood_music['mood']=='Energetic'\n",
    "    f1=mood_music.where(filter1)\n",
    "    f1=f1.dropna()\n",
    "    f2 =f1.sample(n=5)\n",
    "    f2.reset_index(inplace=True)\n",
    "    display(f2)"
   ]
  }
 ],
 "metadata": {
  "kernelspec": {
   "display_name": "Python 3",
   "language": "python",
   "name": "python3"
  },
  "language_info": {
   "codemirror_mode": {
    "name": "ipython",
    "version": 3
   },
   "file_extension": ".py",
   "mimetype": "text/x-python",
   "name": "python",
   "nbconvert_exporter": "python",
   "pygments_lexer": "ipython3",
   "version": "3.7.12"
  },
  "papermill": {
   "default_parameters": {},
   "duration": 10063.662529,
   "end_time": "2022-06-16T20:36:46.630233",
   "environment_variables": {},
   "exception": null,
   "input_path": "__notebook__.ipynb",
   "output_path": "__notebook__.ipynb",
   "parameters": {},
   "start_time": "2022-06-16T17:49:02.967704",
   "version": "2.3.4"
  }
 },
 "nbformat": 4,
 "nbformat_minor": 5
}
